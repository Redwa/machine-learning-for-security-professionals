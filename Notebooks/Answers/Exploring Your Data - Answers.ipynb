{
 "cells": [
  {
   "cell_type": "markdown",
   "metadata": {},
   "source": [
    "<img src=\"../../img/logo_white_bkg_small.png\" align=\"left\" /> \n",
    "# Exploring Your Data\n",
    "This worksheet covers concepts covered in the last part of Module 1 - Exploratory Data Analysis .  It should take no more than 20-30 minutes to complete.  Please raise your hand if you get stuck.  \n",
    "\n",
    "There are many ways to accomplish the tasks that you are presented with, however you will find that by using the techniques covered in class, the exercises should be relatively simple. \n",
    "\n",
    "## Import the Libraries\n",
    "For this exercise, we will be using:\n",
    "* Pandas (http://pandas.pydata.org/pandas-docs/stable/)\n",
    "* Numpy (https://docs.scipy.org/doc/numpy/reference/)\n",
    "* Matplotlib (http://matplotlib.org/api/pyplot_api.html)\n",
    "* Seaborn (https://seaborn.pydata.org)\n"
   ]
  },
  {
   "cell_type": "code",
   "execution_count": 4,
   "metadata": {},
   "outputs": [],
   "source": [
    "import pandas as pd\n",
    "import numpy as np\n",
    "import matplotlib.pyplot as plt\n",
    "import seaborn as sns\n",
    "plt.style.use('ggplot')\n",
    "%matplotlib inline"
   ]
  },
  {
   "cell_type": "markdown",
   "metadata": {},
   "source": [
    "# Exercise 1:  Putting it all together: Bot Analysis\n",
    "First you're going to want to create a data frame from the `dailybots.csv` file which can be found in the `data` directory.  You should be able to do this with the `pd.read_csv()` function.  Take a minute to look at the dataframe because we are going to be using it for to answer several different questions."
   ]
  },
  {
   "cell_type": "code",
   "execution_count": 6,
   "metadata": {},
   "outputs": [
    {
     "data": {
      "text/html": [
       "<div>\n",
       "<style scoped>\n",
       "    .dataframe tbody tr th:only-of-type {\n",
       "        vertical-align: middle;\n",
       "    }\n",
       "\n",
       "    .dataframe tbody tr th {\n",
       "        vertical-align: top;\n",
       "    }\n",
       "\n",
       "    .dataframe thead th {\n",
       "        text-align: right;\n",
       "    }\n",
       "</style>\n",
       "<table border=\"1\" class=\"dataframe\">\n",
       "  <thead>\n",
       "    <tr style=\"text-align: right;\">\n",
       "      <th></th>\n",
       "      <th>date</th>\n",
       "      <th>botfam</th>\n",
       "      <th>industry</th>\n",
       "      <th>hosts</th>\n",
       "      <th>orgs</th>\n",
       "    </tr>\n",
       "  </thead>\n",
       "  <tbody>\n",
       "    <tr>\n",
       "      <th>0</th>\n",
       "      <td>2016-06-01</td>\n",
       "      <td>Bedep</td>\n",
       "      <td>Education</td>\n",
       "      <td>88</td>\n",
       "      <td>33</td>\n",
       "    </tr>\n",
       "    <tr>\n",
       "      <th>1</th>\n",
       "      <td>2016-06-01</td>\n",
       "      <td>Bedep</td>\n",
       "      <td>Finance</td>\n",
       "      <td>387</td>\n",
       "      <td>17</td>\n",
       "    </tr>\n",
       "    <tr>\n",
       "      <th>2</th>\n",
       "      <td>2016-06-01</td>\n",
       "      <td>Bedep</td>\n",
       "      <td>Government/Politics</td>\n",
       "      <td>430</td>\n",
       "      <td>42</td>\n",
       "    </tr>\n",
       "    <tr>\n",
       "      <th>3</th>\n",
       "      <td>2016-06-01</td>\n",
       "      <td>Bedep</td>\n",
       "      <td>Healthcare/Wellness</td>\n",
       "      <td>42</td>\n",
       "      <td>19</td>\n",
       "    </tr>\n",
       "    <tr>\n",
       "      <th>4</th>\n",
       "      <td>2016-06-01</td>\n",
       "      <td>Bedep</td>\n",
       "      <td>Manufacturing</td>\n",
       "      <td>184</td>\n",
       "      <td>18</td>\n",
       "    </tr>\n",
       "  </tbody>\n",
       "</table>\n",
       "</div>"
      ],
      "text/plain": [
       "         date botfam             industry  hosts  orgs\n",
       "0  2016-06-01  Bedep            Education     88    33\n",
       "1  2016-06-01  Bedep              Finance    387    17\n",
       "2  2016-06-01  Bedep  Government/Politics    430    42\n",
       "3  2016-06-01  Bedep  Healthcare/Wellness     42    19\n",
       "4  2016-06-01  Bedep        Manufacturing    184    18"
      ]
     },
     "execution_count": 6,
     "metadata": {},
     "output_type": "execute_result"
    }
   ],
   "source": [
    "data = pd.read_csv( '../../Data/dailybots.csv' )\n",
    "data.head()"
   ]
  },
  {
   "cell_type": "code",
   "execution_count": 7,
   "metadata": {},
   "outputs": [
    {
     "data": {
      "text/html": [
       "<div>\n",
       "<style scoped>\n",
       "    .dataframe tbody tr th:only-of-type {\n",
       "        vertical-align: middle;\n",
       "    }\n",
       "\n",
       "    .dataframe tbody tr th {\n",
       "        vertical-align: top;\n",
       "    }\n",
       "\n",
       "    .dataframe thead th {\n",
       "        text-align: right;\n",
       "    }\n",
       "</style>\n",
       "<table border=\"1\" class=\"dataframe\">\n",
       "  <thead>\n",
       "    <tr style=\"text-align: right;\">\n",
       "      <th></th>\n",
       "      <th>hosts</th>\n",
       "      <th>orgs</th>\n",
       "    </tr>\n",
       "  </thead>\n",
       "  <tbody>\n",
       "    <tr>\n",
       "      <th>count</th>\n",
       "      <td>4969.000000</td>\n",
       "      <td>4969.00000</td>\n",
       "    </tr>\n",
       "    <tr>\n",
       "      <th>mean</th>\n",
       "      <td>142.308110</td>\n",
       "      <td>15.31133</td>\n",
       "    </tr>\n",
       "    <tr>\n",
       "      <th>std</th>\n",
       "      <td>240.955294</td>\n",
       "      <td>21.15150</td>\n",
       "    </tr>\n",
       "    <tr>\n",
       "      <th>min</th>\n",
       "      <td>1.000000</td>\n",
       "      <td>1.00000</td>\n",
       "    </tr>\n",
       "    <tr>\n",
       "      <th>25%</th>\n",
       "      <td>10.000000</td>\n",
       "      <td>3.00000</td>\n",
       "    </tr>\n",
       "    <tr>\n",
       "      <th>50%</th>\n",
       "      <td>38.000000</td>\n",
       "      <td>7.00000</td>\n",
       "    </tr>\n",
       "    <tr>\n",
       "      <th>75%</th>\n",
       "      <td>187.000000</td>\n",
       "      <td>16.00000</td>\n",
       "    </tr>\n",
       "    <tr>\n",
       "      <th>max</th>\n",
       "      <td>2031.000000</td>\n",
       "      <td>122.00000</td>\n",
       "    </tr>\n",
       "  </tbody>\n",
       "</table>\n",
       "</div>"
      ],
      "text/plain": [
       "             hosts        orgs\n",
       "count  4969.000000  4969.00000\n",
       "mean    142.308110    15.31133\n",
       "std     240.955294    21.15150\n",
       "min       1.000000     1.00000\n",
       "25%      10.000000     3.00000\n",
       "50%      38.000000     7.00000\n",
       "75%     187.000000    16.00000\n",
       "max    2031.000000   122.00000"
      ]
     },
     "execution_count": 7,
     "metadata": {},
     "output_type": "execute_result"
    }
   ],
   "source": [
    "data.describe()"
   ]
  },
  {
   "cell_type": "code",
   "execution_count": 8,
   "metadata": {},
   "outputs": [
    {
     "name": "stdout",
     "output_type": "stream",
     "text": [
      "<class 'pandas.core.frame.DataFrame'>\n",
      "RangeIndex: 4969 entries, 0 to 4968\n",
      "Data columns (total 5 columns):\n",
      "date        4969 non-null object\n",
      "botfam      4969 non-null object\n",
      "industry    4969 non-null object\n",
      "hosts       4969 non-null int64\n",
      "orgs        4969 non-null int64\n",
      "dtypes: int64(2), object(3)\n",
      "memory usage: 194.2+ KB\n"
     ]
    }
   ],
   "source": [
    "data.info()"
   ]
  },
  {
   "cell_type": "code",
   "execution_count": 9,
   "metadata": {},
   "outputs": [
    {
     "data": {
      "text/plain": [
       "ConfickerAB    540\n",
       "Sality         540\n",
       "Zeus           540\n",
       "Ramnit         540\n",
       "zeroaccess     538\n",
       "Bedep          535\n",
       "Necurs         511\n",
       "Zusy           498\n",
       "PushDo         418\n",
       "Olmasco        309\n",
       "Name: botfam, dtype: int64"
      ]
     },
     "execution_count": 9,
     "metadata": {},
     "output_type": "execute_result"
    }
   ],
   "source": [
    "data['botfam'].value_counts()"
   ]
  },
  {
   "cell_type": "markdown",
   "metadata": {},
   "source": [
    "### Part 1: Which industry sees the most Ramnit infections? Least?\n",
    "\n",
    "Count the number of infected days for \"Ramnit\" in each industry industry. \n",
    "How: \n",
    "1.  First filter the data to remove all the infections we don't care about\n",
    "2.  Aggregate the data on the column of interest. HINT:  You might want to use the `groupby()` function\n",
    "3.  Add up the results "
   ]
  },
  {
   "cell_type": "code",
   "execution_count": 12,
   "metadata": {},
   "outputs": [
    {
     "data": {
      "text/html": [
       "<div>\n",
       "<style scoped>\n",
       "    .dataframe tbody tr th:only-of-type {\n",
       "        vertical-align: middle;\n",
       "    }\n",
       "\n",
       "    .dataframe tbody tr th {\n",
       "        vertical-align: top;\n",
       "    }\n",
       "\n",
       "    .dataframe thead th {\n",
       "        text-align: right;\n",
       "    }\n",
       "</style>\n",
       "<table border=\"1\" class=\"dataframe\">\n",
       "  <thead>\n",
       "    <tr style=\"text-align: right;\">\n",
       "      <th></th>\n",
       "      <th>industry</th>\n",
       "      <th>hosts</th>\n",
       "      <th>orgs</th>\n",
       "    </tr>\n",
       "  </thead>\n",
       "  <tbody>\n",
       "    <tr>\n",
       "      <th>0</th>\n",
       "      <td>Education</td>\n",
       "      <td>7492</td>\n",
       "      <td>3949</td>\n",
       "    </tr>\n",
       "    <tr>\n",
       "      <th>1</th>\n",
       "      <td>Finance</td>\n",
       "      <td>2281</td>\n",
       "      <td>1357</td>\n",
       "    </tr>\n",
       "    <tr>\n",
       "      <th>2</th>\n",
       "      <td>Government/Politics</td>\n",
       "      <td>4484</td>\n",
       "      <td>448</td>\n",
       "    </tr>\n",
       "    <tr>\n",
       "      <th>3</th>\n",
       "      <td>Healthcare/Wellness</td>\n",
       "      <td>544</td>\n",
       "      <td>473</td>\n",
       "    </tr>\n",
       "    <tr>\n",
       "      <th>4</th>\n",
       "      <td>Manufacturing</td>\n",
       "      <td>46303</td>\n",
       "      <td>1155</td>\n",
       "    </tr>\n",
       "    <tr>\n",
       "      <th>5</th>\n",
       "      <td>Retail</td>\n",
       "      <td>17649</td>\n",
       "      <td>558</td>\n",
       "    </tr>\n",
       "  </tbody>\n",
       "</table>\n",
       "</div>"
      ],
      "text/plain": [
       "              industry  hosts  orgs\n",
       "0            Education   7492  3949\n",
       "1              Finance   2281  1357\n",
       "2  Government/Politics   4484   448\n",
       "3  Healthcare/Wellness    544   473\n",
       "4        Manufacturing  46303  1155\n",
       "5               Retail  17649   558"
      ]
     },
     "execution_count": 12,
     "metadata": {},
     "output_type": "execute_result"
    }
   ],
   "source": [
    "grouped_df = data[data.botfam == \"Ramnit\"].groupby(['industry'], as_index=False)\n",
    "grouped_df.sum()"
   ]
  },
  {
   "cell_type": "markdown",
   "metadata": {},
   "source": [
    "### Part 2: Calculate the min, max, median and mean infected orgs for each bot family, sort by median\n",
    "In this exercise, you are asked to calculate the min, max, median and mean of infected orgs for each bot family sorted by median.  HINT:\n",
    "1.  Using the `groupby()` function, create a grouped data frame\n",
    "2.  You can do this one metric at a time OR you can use the .agg() function. You might want to refer to the documentation here:  http://pandas.pydata.org/pandas-docs/stable/groupby.html#applying-multiple-functions-at-once\n",
    "3.  Sort the values (HINT HINT) by the median column"
   ]
  },
  {
   "cell_type": "code",
   "execution_count": 18,
   "metadata": {},
   "outputs": [
    {
     "data": {
      "text/html": [
       "<div>\n",
       "<style scoped>\n",
       "    .dataframe tbody tr th:only-of-type {\n",
       "        vertical-align: middle;\n",
       "    }\n",
       "\n",
       "    .dataframe tbody tr th {\n",
       "        vertical-align: top;\n",
       "    }\n",
       "\n",
       "    .dataframe thead tr th {\n",
       "        text-align: left;\n",
       "    }\n",
       "\n",
       "    .dataframe thead tr:last-of-type th {\n",
       "        text-align: right;\n",
       "    }\n",
       "</style>\n",
       "<table border=\"1\" class=\"dataframe\">\n",
       "  <thead>\n",
       "    <tr>\n",
       "      <th></th>\n",
       "      <th colspan=\"5\" halign=\"left\">orgs</th>\n",
       "    </tr>\n",
       "    <tr>\n",
       "      <th></th>\n",
       "      <th>amin</th>\n",
       "      <th>amax</th>\n",
       "      <th>mean</th>\n",
       "      <th>median</th>\n",
       "      <th>std</th>\n",
       "    </tr>\n",
       "    <tr>\n",
       "      <th>botfam</th>\n",
       "      <th></th>\n",
       "      <th></th>\n",
       "      <th></th>\n",
       "      <th></th>\n",
       "      <th></th>\n",
       "    </tr>\n",
       "  </thead>\n",
       "  <tbody>\n",
       "    <tr>\n",
       "      <th>ConfickerAB</th>\n",
       "      <td>27</td>\n",
       "      <td>122</td>\n",
       "      <td>63.035185</td>\n",
       "      <td>56.5</td>\n",
       "      <td>25.619679</td>\n",
       "    </tr>\n",
       "    <tr>\n",
       "      <th>Sality</th>\n",
       "      <td>2</td>\n",
       "      <td>43</td>\n",
       "      <td>15.909259</td>\n",
       "      <td>12.0</td>\n",
       "      <td>9.961946</td>\n",
       "    </tr>\n",
       "    <tr>\n",
       "      <th>Necurs</th>\n",
       "      <td>1</td>\n",
       "      <td>115</td>\n",
       "      <td>16.739726</td>\n",
       "      <td>11.0</td>\n",
       "      <td>16.644046</td>\n",
       "    </tr>\n",
       "    <tr>\n",
       "      <th>Ramnit</th>\n",
       "      <td>1</td>\n",
       "      <td>60</td>\n",
       "      <td>14.703704</td>\n",
       "      <td>9.0</td>\n",
       "      <td>14.485780</td>\n",
       "    </tr>\n",
       "    <tr>\n",
       "      <th>Zeus</th>\n",
       "      <td>1</td>\n",
       "      <td>36</td>\n",
       "      <td>9.988889</td>\n",
       "      <td>8.0</td>\n",
       "      <td>6.687004</td>\n",
       "    </tr>\n",
       "    <tr>\n",
       "      <th>Bedep</th>\n",
       "      <td>1</td>\n",
       "      <td>42</td>\n",
       "      <td>8.016822</td>\n",
       "      <td>6.0</td>\n",
       "      <td>6.192125</td>\n",
       "    </tr>\n",
       "    <tr>\n",
       "      <th>zeroaccess</th>\n",
       "      <td>1</td>\n",
       "      <td>19</td>\n",
       "      <td>5.481413</td>\n",
       "      <td>5.0</td>\n",
       "      <td>2.999787</td>\n",
       "    </tr>\n",
       "    <tr>\n",
       "      <th>Zusy</th>\n",
       "      <td>1</td>\n",
       "      <td>20</td>\n",
       "      <td>5.279116</td>\n",
       "      <td>4.0</td>\n",
       "      <td>4.204578</td>\n",
       "    </tr>\n",
       "    <tr>\n",
       "      <th>PushDo</th>\n",
       "      <td>1</td>\n",
       "      <td>12</td>\n",
       "      <td>2.882775</td>\n",
       "      <td>2.0</td>\n",
       "      <td>2.535719</td>\n",
       "    </tr>\n",
       "    <tr>\n",
       "      <th>Olmasco</th>\n",
       "      <td>1</td>\n",
       "      <td>6</td>\n",
       "      <td>1.592233</td>\n",
       "      <td>1.0</td>\n",
       "      <td>0.722148</td>\n",
       "    </tr>\n",
       "  </tbody>\n",
       "</table>\n",
       "</div>"
      ],
      "text/plain": [
       "            orgs                                  \n",
       "            amin amax       mean median        std\n",
       "botfam                                            \n",
       "ConfickerAB   27  122  63.035185   56.5  25.619679\n",
       "Sality         2   43  15.909259   12.0   9.961946\n",
       "Necurs         1  115  16.739726   11.0  16.644046\n",
       "Ramnit         1   60  14.703704    9.0  14.485780\n",
       "Zeus           1   36   9.988889    8.0   6.687004\n",
       "Bedep          1   42   8.016822    6.0   6.192125\n",
       "zeroaccess     1   19   5.481413    5.0   2.999787\n",
       "Zusy           1   20   5.279116    4.0   4.204578\n",
       "PushDo         1   12   2.882775    2.0   2.535719\n",
       "Olmasco        1    6   1.592233    1.0   0.722148"
      ]
     },
     "execution_count": 18,
     "metadata": {},
     "output_type": "execute_result"
    }
   ],
   "source": [
    "group2 = data[['botfam','orgs']].groupby( ['botfam'], as_index=False)\n",
    "summary = group2.agg([np.min, np.max, np.mean, np.median, np.std], as_index=False)\n",
    "summary.sort_values( [('orgs', 'median')], ascending=False )"
   ]
  },
  {
   "cell_type": "markdown",
   "metadata": {},
   "source": [
    "### Part 3: Which date had the total most bot infections and how many infections on that day?\n",
    "For the next step, aggregate and sum the number of infections (hosts) by date.  Once you've done that, the next step is to sort in descending order. "
   ]
  },
  {
   "cell_type": "code",
   "execution_count": 19,
   "metadata": {},
   "outputs": [
    {
     "data": {
      "text/html": [
       "<div>\n",
       "<style scoped>\n",
       "    .dataframe tbody tr th:only-of-type {\n",
       "        vertical-align: middle;\n",
       "    }\n",
       "\n",
       "    .dataframe tbody tr th {\n",
       "        vertical-align: top;\n",
       "    }\n",
       "\n",
       "    .dataframe thead th {\n",
       "        text-align: right;\n",
       "    }\n",
       "</style>\n",
       "<table border=\"1\" class=\"dataframe\">\n",
       "  <thead>\n",
       "    <tr style=\"text-align: right;\">\n",
       "      <th></th>\n",
       "      <th>date</th>\n",
       "      <th>hosts</th>\n",
       "    </tr>\n",
       "  </thead>\n",
       "  <tbody>\n",
       "    <tr>\n",
       "      <th>1</th>\n",
       "      <td>2016-06-02</td>\n",
       "      <td>11352</td>\n",
       "    </tr>\n",
       "    <tr>\n",
       "      <th>7</th>\n",
       "      <td>2016-06-08</td>\n",
       "      <td>10716</td>\n",
       "    </tr>\n",
       "    <tr>\n",
       "      <th>8</th>\n",
       "      <td>2016-06-09</td>\n",
       "      <td>10476</td>\n",
       "    </tr>\n",
       "    <tr>\n",
       "      <th>6</th>\n",
       "      <td>2016-06-07</td>\n",
       "      <td>10383</td>\n",
       "    </tr>\n",
       "    <tr>\n",
       "      <th>2</th>\n",
       "      <td>2016-06-03</td>\n",
       "      <td>10336</td>\n",
       "    </tr>\n",
       "    <tr>\n",
       "      <th>5</th>\n",
       "      <td>2016-06-06</td>\n",
       "      <td>10125</td>\n",
       "    </tr>\n",
       "    <tr>\n",
       "      <th>9</th>\n",
       "      <td>2016-06-10</td>\n",
       "      <td>10106</td>\n",
       "    </tr>\n",
       "    <tr>\n",
       "      <th>13</th>\n",
       "      <td>2016-06-14</td>\n",
       "      <td>9820</td>\n",
       "    </tr>\n",
       "    <tr>\n",
       "      <th>14</th>\n",
       "      <td>2016-06-15</td>\n",
       "      <td>9738</td>\n",
       "    </tr>\n",
       "    <tr>\n",
       "      <th>19</th>\n",
       "      <td>2016-06-20</td>\n",
       "      <td>9461</td>\n",
       "    </tr>\n",
       "  </tbody>\n",
       "</table>\n",
       "</div>"
      ],
      "text/plain": [
       "          date  hosts\n",
       "1   2016-06-02  11352\n",
       "7   2016-06-08  10716\n",
       "8   2016-06-09  10476\n",
       "6   2016-06-07  10383\n",
       "2   2016-06-03  10336\n",
       "5   2016-06-06  10125\n",
       "9   2016-06-10  10106\n",
       "13  2016-06-14   9820\n",
       "14  2016-06-15   9738\n",
       "19  2016-06-20   9461"
      ]
     },
     "execution_count": 19,
     "metadata": {},
     "output_type": "execute_result"
    }
   ],
   "source": [
    "df3 = data[['date','hosts']].groupby('date',as_index=False).sum()\n",
    "df3.sort_values(by='hosts', ascending=False).head(10)"
   ]
  },
  {
   "cell_type": "markdown",
   "metadata": {},
   "source": [
    "### Part 4: Plot the daily infected hosts for Necurs, Ramnit and PushDo\n",
    "For the final step, you're going to plot the daily infected hosts for three infection types.  In order to do this, you'll need to do the following steps:\n",
    "1.  Filter the data to remove the botfamilies we don't care about. \n",
    "2.  Use `groupby()` to aggregate the data by date and family, then sum up the hosts in each group\n",
    "3.  Plot the data.  Hint:  You might want to use the `unstack()` function to prepare the data for plotting. \n",
    "4.  Use the `plot()` method to plot the results. "
   ]
  },
  {
   "cell_type": "code",
   "execution_count": 20,
   "metadata": {},
   "outputs": [
    {
     "data": {
      "text/plain": [
       "<matplotlib.axes._subplots.AxesSubplot at 0x112d11e10>"
      ]
     },
     "execution_count": 20,
     "metadata": {},
     "output_type": "execute_result"
    },
    {
     "data": {
      "image/png": "[encoded data removed]",
      "text/plain": [
       "<matplotlib.figure.Figure at 0x112cfa5c0>"
      ]
     },
     "metadata": {},
     "output_type": "display_data"
    }
   ],
   "source": [
    "filteredData = data[ data['botfam'].isin(['Necurs', 'Ramnit', 'PushDo']) ][['date', 'botfam', 'hosts']]\n",
    "groupedFilteredData = filteredData.groupby( ['date', 'botfam']).sum()\n",
    "groupedFilteredData.unstack(level=1).plot(kind='line', subplots=False)"
   ]
  },
  {
   "cell_type": "markdown",
   "metadata": {
    "collapsed": true
   },
   "source": [
    "## Part 5: What are the distribution of infected hosts for each day-of-week across all bot families?\n",
    "\n",
    "Hint: try a box plot and/or violin plot.  In order to accomplish this, you'll have to get the data into the format shown below:\n",
    "\n",
    "|  |date|hosts|day|\n",
    "|--|----|-----|---|\n",
    "|469|\t2016-06-09|\t247\t|Thursday|\n",
    "|206|\t2016-06-04\t|201\t|Saturday|\n",
    "|34|\t2016-06-01\t|144|\tWednesday|\n",
    "|4685|\t2016-08-24\t|8|\tWednesday|\n",
    "\n",
    "In order to do this, there are a few steps:\n",
    "1.  First convert the date to a date object.\n",
    "2.  Next, use this column to add two new columns to the dataset: the day of the week and the integer representation of that.  http://pandas.pydata.org/pandas-docs/stable/timeseries.html\n",
    "3.  Sort the data by the date\n",
    "4.  You'll want to group the data by the day number and sum up the hosts.\n",
    "5.  Next, use the `.boxplot()` method to plot the data. This has grouping built in, so you don't have to group by first.\n",
    "\n",
    "Try plotting the data using Seaborn."
   ]
  },
  {
   "cell_type": "code",
   "execution_count": 22,
   "metadata": {},
   "outputs": [
    {
     "data": {
      "text/plain": [
       "<matplotlib.axes._subplots.AxesSubplot at 0x114129f28>"
      ]
     },
     "execution_count": 22,
     "metadata": {},
     "output_type": "execute_result"
    },
    {
     "data": {
      "image/png": "[encoded data removed]",
      "text/plain": [
       "<matplotlib.figure.Figure at 0x114129898>"
      ]
     },
     "metadata": {},
     "output_type": "display_data"
    }
   ],
   "source": [
    "data.date  = pd.to_datetime( data.date )\n",
    "day_data = data[['date','hosts']]\n",
    "grouped_day_data = day_data.groupby('date', as_index=False).sum()\n",
    "\n",
    "\n",
    "grouped_day_data['day'] = grouped_day_data['date'].dt.weekday_name\n",
    "grouped_day_data['day_number'] = grouped_day_data['date'].dt.dayofweek\n",
    "grouped_day_data.sort_values(by='day_number', inplace=True, ascending=True)\n",
    "grouped_day_data[['day','hosts']].boxplot(by=\"day\")"
   ]
  },
  {
   "cell_type": "code",
   "execution_count": 23,
   "metadata": {},
   "outputs": [
    {
     "name": "stderr",
     "output_type": "stream",
     "text": [
      "/Users/cgivre/anaconda/lib/python3.6/site-packages/seaborn/categorical.py:462: FutureWarning: remove_na is deprecated and is a private function. Do not use.\n",
      "  box_data = remove_na(group_data)\n"
     ]
    },
    {
     "data": {
      "text/plain": [
       "<matplotlib.axes._subplots.AxesSubplot at 0x113fdff28>"
      ]
     },
     "execution_count": 23,
     "metadata": {},
     "output_type": "execute_result"
    },
    {
     "data": {
      "image/png": "[encoded data removed]",
      "text/plain": [
       "<matplotlib.figure.Figure at 0x114209a20>"
      ]
     },
     "metadata": {},
     "output_type": "display_data"
    }
   ],
   "source": [
    "sns.boxplot( data=grouped_day_data, x=\"day\",y=\"hosts\")"
   ]
  },
  {
   "cell_type": "code",
   "execution_count": null,
   "metadata": {},
   "outputs": [],
   "source": []
  }
 ],
 "metadata": {
  "kernelspec": {
   "display_name": "Python 3",
   "language": "python",
   "name": "python3"
  },
  "language_info": {
   "codemirror_mode": {
    "name": "ipython",
    "version": 3
   },
   "file_extension": ".py",
   "mimetype": "text/x-python",
   "name": "python",
   "nbconvert_exporter": "python",
   "pygments_lexer": "ipython3",
   "version": "3.6.3"
  }
 },
 "nbformat": 4,
 "nbformat_minor": 2
}
